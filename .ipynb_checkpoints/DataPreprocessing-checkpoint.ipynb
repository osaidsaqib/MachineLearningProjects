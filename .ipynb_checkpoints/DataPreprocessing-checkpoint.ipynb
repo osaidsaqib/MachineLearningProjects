{
 "cells": [
  {
   "cell_type": "code",
   "execution_count": 39,
   "id": "648d47b9-b2fa-46ea-a075-48544b148a4b",
   "metadata": {},
   "outputs": [],
   "source": [
    "import pandas as pd \n"
   ]
  },
  {
   "cell_type": "code",
   "execution_count": 56,
   "id": "2e35476c-275d-491d-94d7-294da04849af",
   "metadata": {},
   "outputs": [],
   "source": [
    "data = {'age':[20, 30 , 15, None, 19, None, 11], 'salary':[10000, 60000, 40000, 500000, 40000, None, None], \n",
    "        'City':['Manchester', 'Manchester', 'Paris', None, None, 'Tirana', 'Mumbai']}\n",
    "dataset = pd.DataFrame(data)"
   ]
  },
  {
   "cell_type": "code",
   "execution_count": 57,
   "id": "2628a87b-07ce-48c2-87a2-db4a78fd717d",
   "metadata": {},
   "outputs": [
    {
     "name": "stdout",
     "output_type": "stream",
     "text": [
      "Sucessfully created\n"
     ]
    }
   ],
   "source": [
    "dataset.to_csv('Data.csv', index=False)\n",
    "print(\"Sucessfully created\")"
   ]
  },
  {
   "cell_type": "code",
   "execution_count": 58,
   "id": "42456855-591e-412a-b401-bf4af40e8cb6",
   "metadata": {},
   "outputs": [],
   "source": [
    "df = pd.read_csv('Data.csv')"
   ]
  },
  {
   "cell_type": "code",
   "execution_count": 59,
   "id": "b118c8d1-5dfc-4a52-9dc3-8d113945abd7",
   "metadata": {},
   "outputs": [
    {
     "name": "stdout",
     "output_type": "stream",
     "text": [
      "    age    salary        City\n",
      "0  20.0   10000.0  Manchester\n",
      "1  30.0   60000.0  Manchester\n",
      "2  15.0   40000.0       Paris\n",
      "3   NaN  500000.0         NaN\n",
      "4  19.0   40000.0         NaN\n",
      "5   NaN       NaN      Tirana\n",
      "6  11.0       NaN      Mumbai\n"
     ]
    }
   ],
   "source": [
    "print(df)"
   ]
  },
  {
   "cell_type": "code",
   "execution_count": 60,
   "id": "6ba8622d-4e2e-4956-9b8f-90494141e4c6",
   "metadata": {},
   "outputs": [
    {
     "name": "stdout",
     "output_type": "stream",
     "text": [
      "age       2\n",
      "salary    2\n",
      "City      2\n",
      "dtype: int64\n"
     ]
    }
   ],
   "source": [
    "print(df.isnull().sum())"
   ]
  },
  {
   "cell_type": "code",
   "execution_count": 61,
   "id": "5e67aa09-6c6a-4140-bd6b-d39a8a85a30b",
   "metadata": {},
   "outputs": [],
   "source": [
    "df['age'] = df['age'].fillna(df['age'].mean())"
   ]
  },
  {
   "cell_type": "code",
   "execution_count": 62,
   "id": "7bff39f1-b8a4-4c68-9d42-9eaf84ab52b4",
   "metadata": {},
   "outputs": [
    {
     "name": "stdout",
     "output_type": "stream",
     "text": [
      "0    20.0\n",
      "1    30.0\n",
      "2    15.0\n",
      "3    19.0\n",
      "4    19.0\n",
      "5    19.0\n",
      "6    11.0\n",
      "Name: age, dtype: float64\n"
     ]
    }
   ],
   "source": [
    "print(df['age'])"
   ]
  },
  {
   "cell_type": "code",
   "execution_count": 63,
   "id": "19b6660e-c4ed-4d19-8232-98f1caa13666",
   "metadata": {},
   "outputs": [
    {
     "name": "stdout",
     "output_type": "stream",
     "text": [
      "age       0\n",
      "salary    2\n",
      "City      2\n",
      "dtype: int64\n"
     ]
    }
   ],
   "source": [
    "print(df.isnull().sum())"
   ]
  },
  {
   "cell_type": "code",
   "execution_count": 64,
   "id": "6c848c13-8db6-4263-a91a-a4ce6e0c919e",
   "metadata": {},
   "outputs": [
    {
     "name": "stdout",
     "output_type": "stream",
     "text": [
      "0     10000.0\n",
      "1     60000.0\n",
      "2     40000.0\n",
      "3    500000.0\n",
      "4     40000.0\n",
      "5     40000.0\n",
      "6     40000.0\n",
      "Name: salary, dtype: float64\n"
     ]
    }
   ],
   "source": [
    "df['salary'] = df['salary'].fillna(df['salary'].median())\n",
    "print(df['salary'])"
   ]
  },
  {
   "cell_type": "code",
   "execution_count": 68,
   "id": "6b66e48d-dfd6-4bbe-b26a-927116ab8382",
   "metadata": {},
   "outputs": [
    {
     "name": "stdout",
     "output_type": "stream",
     "text": [
      "0    Manchester\n",
      "1    Manchester\n",
      "2         Paris\n",
      "3    Manchester\n",
      "4    Manchester\n",
      "5        Tirana\n",
      "6        Mumbai\n",
      "Name: City, dtype: object\n"
     ]
    }
   ],
   "source": [
    "df['City'] = df['City'].fillna(df['City'].mode()[0])\n",
    "print(df['City'])"
   ]
  },
  {
   "cell_type": "code",
   "execution_count": 71,
   "id": "c675da0d-2453-485f-a3cb-a3c3c4c32560",
   "metadata": {},
   "outputs": [
    {
     "name": "stdout",
     "output_type": "stream",
     "text": [
      "    age    salary        City\n",
      "0  20.0   10000.0  Manchester\n",
      "1  30.0   60000.0  Manchester\n",
      "2  15.0   40000.0       Paris\n",
      "3  19.0  500000.0  Manchester\n",
      "4  19.0   40000.0  Manchester\n"
     ]
    }
   ],
   "source": [
    "print(df.head())"
   ]
  },
  {
   "cell_type": "code",
   "execution_count": 73,
   "id": "b367014e-80c0-46fc-803b-7db86c06fb00",
   "metadata": {},
   "outputs": [
    {
     "name": "stdout",
     "output_type": "stream",
     "text": [
      "    age    salary        City  gender\n",
      "0  20.0   10000.0  Manchester    Male\n",
      "1  30.0   60000.0  Manchester  Female\n",
      "2  15.0   40000.0       Paris    Male\n",
      "3  19.0  500000.0  Manchester    None\n",
      "4  19.0   40000.0  Manchester    Male\n",
      "5  19.0   40000.0      Tirana  Female\n",
      "6  11.0   40000.0      Mumbai  Female\n"
     ]
    }
   ],
   "source": [
    "gender = ['Male', 'Female', 'Male', None, 'Male' , 'Female', 'Female']\n",
    "df['gender'] = gender\n",
    "print(df)"
   ]
  },
  {
   "cell_type": "code",
   "execution_count": 74,
   "id": "09629f59-a904-4bba-bace-f941fe13f0ed",
   "metadata": {},
   "outputs": [],
   "source": [
    "df['gender'] = df['gender'].fillna(df['gender'].mode()[0])"
   ]
  },
  {
   "cell_type": "code",
   "execution_count": 76,
   "id": "cc0bf6e6-40e1-43be-93d4-b8be9bc0bb4f",
   "metadata": {},
   "outputs": [],
   "source": [
    "from sklearn.preprocessing import LabelEncoder"
   ]
  },
  {
   "cell_type": "code",
   "execution_count": 78,
   "id": "2d6d9725-60ed-4f8b-b912-459ab796644d",
   "metadata": {},
   "outputs": [],
   "source": [
    "df = pd.get_dummies(df,columns = ['City'], drop_first = True)"
   ]
  },
  {
   "cell_type": "code",
   "execution_count": 85,
   "id": "740d5399-7206-4b2b-bceb-52fd6fa297ba",
   "metadata": {},
   "outputs": [
    {
     "name": "stdout",
     "output_type": "stream",
     "text": [
      "    age    salary  gender  City_Mumbai  City_Paris  City_Tirana\n",
      "0  20.0   10000.0       1        False       False        False\n",
      "1  30.0   60000.0       0        False       False        False\n",
      "2  15.0   40000.0       1        False        True        False\n",
      "3  19.0  500000.0       0        False       False        False\n",
      "4  19.0   40000.0       1        False       False        False\n"
     ]
    }
   ],
   "source": [
    "le = LabelEncoder()\n",
    "df['gender'] = le.fit_transform(df['gender'])\n",
    "print(df.head())"
   ]
  },
  {
   "cell_type": "code",
   "execution_count": null,
   "id": "e7ba75c0-12d2-4f0d-81bb-1243538ee8fa",
   "metadata": {},
   "outputs": [],
   "source": []
  }
 ],
 "metadata": {
  "kernelspec": {
   "display_name": "Python 3 (ipykernel)",
   "language": "python",
   "name": "python3"
  },
  "language_info": {
   "codemirror_mode": {
    "name": "ipython",
    "version": 3
   },
   "file_extension": ".py",
   "mimetype": "text/x-python",
   "name": "python",
   "nbconvert_exporter": "python",
   "pygments_lexer": "ipython3",
   "version": "3.11.3"
  }
 },
 "nbformat": 4,
 "nbformat_minor": 5
}
