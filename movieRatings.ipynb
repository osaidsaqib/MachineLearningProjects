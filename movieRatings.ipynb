{
 "cells": [
  {
   "cell_type": "code",
   "execution_count": 7,
   "id": "e10d08ec-454f-4c61-a7ff-c0c1ff15a868",
   "metadata": {},
   "outputs": [],
   "source": [
    "import pandas as pd\n",
    "import matplotlib.pyplot as plt\n"
   ]
  },
  {
   "cell_type": "code",
   "execution_count": 8,
   "id": "7aded41a-7ae3-4088-bc33-076de871af12",
   "metadata": {},
   "outputs": [],
   "source": [
    "Data = {\n",
    "    'UserID': [1,5,6,3,7,10,31,21,17], \n",
    "    'MovieID': [13,32,42,33,44,56,67,65,76],\n",
    "    'rating': [2,4,4,5,1,2,4,2,3],\n",
    "    'TimeStamp': ['2012-4-10', '2003-5-16','2020-4-8','2007-10-29', '2021-10-5', '2016-7-20', '2005-3-10', '20-10-5','20-12-20',]\n",
    "}"
   ]
  },
  {
   "cell_type": "code",
   "execution_count": 10,
   "id": "7ffaab9f-cf71-42c4-978f-1a61b883764f",
   "metadata": {},
   "outputs": [
    {
     "name": "stdout",
     "output_type": "stream",
     "text": [
      "   UserID  MovieID  rating   TimeStamp\n",
      "0       1       13       2   2012-4-10\n",
      "1       5       32       4   2003-5-16\n",
      "2       6       42       4    2020-4-8\n",
      "3       3       33       5  2007-10-29\n",
      "4       7       44       1   2021-10-5\n",
      "5      10       56       2   2016-7-20\n",
      "6      31       67       4   2005-3-10\n",
      "7      21       65       2     20-10-5\n",
      "8      17       76       3    20-12-20\n"
     ]
    }
   ],
   "source": [
    "df = pd.DataFrame(Data)\n",
    "print(df)"
   ]
  },
  {
   "cell_type": "code",
   "execution_count": 13,
   "id": "9c645e44-df04-48c2-bc7b-4a0412f3e83d",
   "metadata": {},
   "outputs": [
    {
     "name": "stdout",
     "output_type": "stream",
     "text": [
      "MovieID\n",
      "13    2.0\n",
      "32    4.0\n",
      "33    5.0\n",
      "42    4.0\n",
      "44    1.0\n",
      "56    2.0\n",
      "65    2.0\n",
      "67    4.0\n",
      "76    3.0\n",
      "Name: rating, dtype: float64\n"
     ]
    }
   ],
   "source": [
    "print(df.groupby('MovieID')['rating'].mean())"
   ]
  },
  {
   "cell_type": "code",
   "execution_count": 14,
   "id": "e75208c3-76a8-4336-8d68-28c17ae67d26",
   "metadata": {},
   "outputs": [
    {
     "name": "stdout",
     "output_type": "stream",
     "text": [
      "MovieID\n",
      "13    2.0\n",
      "32    4.0\n",
      "33    5.0\n",
      "42    4.0\n",
      "44    1.0\n",
      "56    2.0\n",
      "65    2.0\n",
      "67    4.0\n",
      "76    3.0\n",
      "Name: rating, dtype: float64\n"
     ]
    }
   ],
   "source": [
    "average_rating = df.groupby('MovieID')['rating'].mean()\n",
    "print(average_rating)"
   ]
  },
  {
   "cell_type": "code",
   "execution_count": 18,
   "id": "33a5bf1e-4888-4a64-907c-a711bc18a82a",
   "metadata": {},
   "outputs": [
    {
     "name": "stdout",
     "output_type": "stream",
     "text": [
      "33\n",
      "5.0\n"
     ]
    }
   ],
   "source": [
    "highest_ID = average_rating.idxmax()\n",
    "print(highest_ID)\n",
    "highest_rating = average_rating.max()\n",
    "print(highest_rating)"
   ]
  },
  {
   "cell_type": "code",
   "execution_count": 20,
   "id": "7bd6b08b-9bc7-441c-aadb-7325e47aa910",
   "metadata": {},
   "outputs": [
    {
     "name": "stdout",
     "output_type": "stream",
     "text": [
      "UserID\n",
      "1     1\n",
      "3     1\n",
      "5     1\n",
      "6     1\n",
      "7     1\n",
      "10    1\n",
      "17    1\n",
      "21    1\n",
      "31    1\n",
      "Name: rating, dtype: int64\n"
     ]
    }
   ],
   "source": [
    "userratings = df.groupby('UserID')['rating'].count()\n",
    "print(userratings)"
   ]
  },
  {
   "cell_type": "code",
   "execution_count": 21,
   "id": "e1952e0a-ebd3-45e0-aa8d-828860e74859",
   "metadata": {},
   "outputs": [
    {
     "name": "stdout",
     "output_type": "stream",
     "text": [
      "   UserID  MovieID  rating   TimeStamp\n",
      "1       5       32       4   2003-5-16\n",
      "2       6       42       4    2020-4-8\n",
      "3       3       33       5  2007-10-29\n",
      "6      31       67       4   2005-3-10\n"
     ]
    }
   ],
   "source": [
    "filtered_data = df[df['rating']>=4]\n",
    "print(filtered_data)"
   ]
  },
  {
   "cell_type": "code",
   "execution_count": 28,
   "id": "bb814441-9f49-477c-8eda-1b9bb39ea789",
   "metadata": {},
   "outputs": [
    {
     "data": {
      "image/png": "[encoded data removed]",
      "text/plain": [
       "<Figure size 800x500 with 1 Axes>"
      ]
     },
     "metadata": {},
     "output_type": "display_data"
    }
   ],
   "source": [
    "plt.figure(figsize = (8,5))\n",
    "plt.hist(df['rating'], bins=5, edgecolor='red', alpha=0.9)\n",
    "plt.title('Ratings per Movie')\n",
    "plt.xlabel('Ratings')\n",
    "plt.ylabel('Frequencey')\n",
    "plt.grid(True)\n",
    "plt.show()"
   ]
  },
  {
   "cell_type": "code",
   "execution_count": null,
   "id": "7e379e98-6dfc-44fe-a124-8fcf7d0f1dac",
   "metadata": {},
   "outputs": [],
   "source": []
  }
 ],
 "metadata": {
  "kernelspec": {
   "display_name": "Python 3 (ipykernel)",
   "language": "python",
   "name": "python3"
  },
  "language_info": {
   "codemirror_mode": {
    "name": "ipython",
    "version": 3
   },
   "file_extension": ".py",
   "mimetype": "text/x-python",
   "name": "python",
   "nbconvert_exporter": "python",
   "pygments_lexer": "ipython3",
   "version": "3.11.3"
  }
 },
 "nbformat": 4,
 "nbformat_minor": 5
}
