{
 "cells": [
  {
   "cell_type": "code",
   "execution_count": 21,
   "id": "e22b5495-23e0-449a-9582-44f8aaf009b7",
   "metadata": {},
   "outputs": [],
   "source": [
    "import nltk\n",
    "from nltk.sentiment import SentimentIntensityAnalyzer\n",
    "from textblob import TextBlob\n",
    "from sklearn.feature_extraction.text import TfidfVectorizer\n",
    "from sklearn.model_selection import train_test_split\n",
    "from sklearn.linear_model import LogisticRegression\n",
    "from sklearn.pipeline import make_pipeline\n",
    "from transformers import T5Tokenizer, T5ForConditionalGeneration\n",
    "from transformers import BertTokenizer, BertModel\n",
    "import torch"
   ]
  },
  {
   "cell_type": "code",
   "execution_count": 22,
   "id": "a308f3ab-e414-40bd-85d6-4751644ca39b",
   "metadata": {},
   "outputs": [],
   "source": [
    "#pip install torchvision"
   ]
  },
  {
   "cell_type": "code",
   "execution_count": 32,
   "id": "7abad4a2-ab9b-46e6-a63c-e7e39be80cc0",
   "metadata": {},
   "outputs": [],
   "source": [
    "input_words = \"I love doing python work!\"\n",
    "\n",
    "tokenizer = BertTokenizer.from_pretrained(\"bert-base-uncased\")\n",
    "model = BertModel.from_pretrained(\"bert-base-uncased\")\n",
    "model.eval()\n",
    "inputs = tokenizer(input_words, return_tensors=\"pt\", padding=True, truncation=True)"
   ]
  },
  {
   "cell_type": "code",
   "execution_count": 33,
   "id": "ab9b9349-ecb0-4c99-9423-42eb8abc691e",
   "metadata": {},
   "outputs": [],
   "source": [
    " with torch.no_grad():\n",
    "    outputs = model(**inputs)\n",
    "    sentence_embedding = outputs.last_hidden_state.mean().squeeze()"
   ]
  },
  {
   "cell_type": "code",
   "execution_count": 34,
   "id": "a8145e94-12ec-48bc-b49f-9cb447dafce5",
   "metadata": {},
   "outputs": [
    {
     "name": "stdout",
     "output_type": "stream",
     "text": [
      "torch.Size([])\n",
      "tensor(-0.0115)\n"
     ]
    }
   ],
   "source": [
    "print(sentence_embedding.shape)\n",
    "print(sentence_embedding)"
   ]
  },
  {
   "cell_type": "code",
   "execution_count": null,
   "id": "fd21ed47-6a53-4d21-82cc-d5392937f4ce",
   "metadata": {},
   "outputs": [],
   "source": []
  }
 ],
 "metadata": {
  "kernelspec": {
   "display_name": "Python 3 (ipykernel)",
   "language": "python",
   "name": "python3"
  },
  "language_info": {
   "codemirror_mode": {
    "name": "ipython",
    "version": 3
   },
   "file_extension": ".py",
   "mimetype": "text/x-python",
   "name": "python",
   "nbconvert_exporter": "python",
   "pygments_lexer": "ipython3",
   "version": "3.11.3"
  }
 },
 "nbformat": 4,
 "nbformat_minor": 5
}
