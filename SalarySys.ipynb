{
 "cells": [
  {
   "cell_type": "code",
   "execution_count": 1,
   "id": "a562fcf7-a70c-40de-98dc-d79edf62a024",
   "metadata": {},
   "outputs": [],
   "source": [
    "import pandas as pd\n",
    "import matplotlib.pyplot as plt\n",
    "file_path = 'Emplyees.csv'\n",
    "df = pd.read_csv(file_path)"
   ]
  },
  {
   "cell_type": "code",
   "execution_count": 2,
   "id": "2c3f270e-6232-4554-8f0f-f60ec806487f",
   "metadata": {},
   "outputs": [
    {
     "name": "stdout",
     "output_type": "stream",
     "text": [
      "   EmployeeID      Name   Salary Department Date of joining\n",
      "0    J-126534      John   30,000         IT      10/06/2020\n",
      "1    n-126534     nancy    52000         IT      03/03/2015\n",
      "2    A-126534      Alex   74,000      Sales      23/11/2009\n",
      "3    R-126534     Rohan    96000      Sales      15/08/2004\n",
      "4    J-126534     Jamie  118,000  Marketing      08/05/1999\n",
      "5    M-126534       Max   140000  Marketing      28/01/1994\n",
      "6    K-126534  Kristina  162,000         HR      20/10/1988\n",
      "7    R-126534    Robert   184000        RnD      13/07/1983\n",
      "8    K-126534     Kelly  206,000      Sales      04/04/1978\n",
      "9    P-126534      Phil   228000    Finance      25/12/1972\n",
      "10   M-126534  Macenzie  250,000    Finance      17/09/1967\n",
      "11   b-126534       bob   272000         IT      09/06/1962\n"
     ]
    }
   ],
   "source": [
    "print(df)"
   ]
  },
  {
   "cell_type": "code",
   "execution_count": 3,
   "id": "0b3b6a7f-b475-41a8-8c09-b20026108101",
   "metadata": {},
   "outputs": [
    {
     "name": "stdout",
     "output_type": "stream",
     "text": [
      "Department\n",
      "IT           3\n",
      "Sales        3\n",
      "Marketing    2\n",
      "Finance      2\n",
      "HR           1\n",
      "RnD          1\n",
      "Name: count, dtype: int64\n"
     ]
    }
   ],
   "source": [
    "departmentCount = df['Department'].value_counts()\n",
    "print(departmentCount)"
   ]
  },
  {
   "cell_type": "code",
   "execution_count": null,
   "id": "60ae6483-9b01-4f68-8a82-18f2484b6fec",
   "metadata": {},
   "outputs": [],
   "source": [
    "\n",
    "\n",
    "#df['Date of joining'] = pd.to_datetime(df['Date of joining'])\n",
    "#join"
   ]
  }
 ],
 "metadata": {
  "kernelspec": {
   "display_name": "Python 3 (ipykernel)",
   "language": "python",
   "name": "python3"
  },
  "language_info": {
   "codemirror_mode": {
    "name": "ipython",
    "version": 3
   },
   "file_extension": ".py",
   "mimetype": "text/x-python",
   "name": "python",
   "nbconvert_exporter": "python",
   "pygments_lexer": "ipython3",
   "version": "3.11.3"
  }
 },
 "nbformat": 4,
 "nbformat_minor": 5
}
